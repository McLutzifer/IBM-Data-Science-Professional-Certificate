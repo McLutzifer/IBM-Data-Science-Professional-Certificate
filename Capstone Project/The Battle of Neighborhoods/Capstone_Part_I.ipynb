{
 "cells": [
  {
   "cell_type": "markdown",
   "metadata": {},
   "source": [
    "# Capstone Project - Part I\n",
    "by **Lukas Schumi**"
   ]
  },
  {
   "cell_type": "markdown",
   "metadata": {},
   "source": [
    "## 1. Introduction"
   ]
  },
  {
   "cell_type": "markdown",
   "metadata": {},
   "source": [
    "### 1.1 Background"
   ]
  },
  {
   "cell_type": "markdown",
   "metadata": {},
   "source": [
    "I currently work for the company **XXL Sports & Outdoor GMBH**, a Scandinavian sports retailer which is expanding in Austria. The logical starting point was the capital of Austria, Vienna, which inherits almost a quarter of the population of the entire country. It was also a good starting point, for Vienna offers a wide variety for those of us, who want to stay active and enroll in any kind of sportive activity. \n",
    "But there is also a lot of competition on the sporting goods market. And with 5 Stores in 3 major cities and a 6th one just weeks from opening, expansions is always a hot topic. \n",
    "Therefore analyzing locations is key for finding the perfect position for a new store. \n"
   ]
  },
  {
   "cell_type": "markdown",
   "metadata": {},
   "source": [
    "### 1.2 Problem"
   ]
  },
  {
   "cell_type": "markdown",
   "metadata": {},
   "source": [
    "Austrias national sport is skiing and there are many first-class skiing areas especially in the western regions of the country. In my opinion, when it comes to sport, the skiing market might be the hardest to enter in this country, for there are countless long-established specialized shops.  \n",
    "So I think it might be smarter to focus on the eastern regions until the brand of XXL made a name for itself as a reliable retailer. And where better to start a comprehensive branch network than in the capital?  \n",
    "So in the following work I focus on the city of Vienna and its immediate surroundings. Searching an optimal location for a new store can be challenging. You have to find the right balance between a place with too much competition and one that's too remote to reach. To narrow the possibilities down, I looked at locations where places are nearby, where sport equipment is needed. The thought behind this is, that if someone is at such a place, say a gym or a beach, and forgot his gear or something breaks during usage, there might be a bigger chance, if a sports good shop is nearby, that said person buys new equipment instead of going home and picking it up or ordering it online. Ideally there should also be some kind of public transport nearby.\n",
    "\n",
    "\n",
    "\n",
    "\n"
   ]
  },
  {
   "cell_type": "markdown",
   "metadata": {},
   "source": [
    "### 1.3 Interest"
   ]
  },
  {
   "cell_type": "markdown",
   "metadata": {},
   "source": [
    "This project is meant for stakeholders at **XXL Sports & Outdoor GMBH** as aid when searching for the next location to open a new store."
   ]
  },
  {
   "cell_type": "markdown",
   "metadata": {},
   "source": [
    "## 2. Data acquisition"
   ]
  },
  {
   "cell_type": "markdown",
   "metadata": {},
   "source": [
    "### 2.1 Data source"
   ]
  },
  {
   "cell_type": "markdown",
   "metadata": {},
   "source": [
    "For this project I got locations for sport facilities as well as the places of competing stores in Vienna from the **Foursquare API**.\n",
    "The locations of the XXL stores are from the Homepage https://www.xxlsports.at/store-finder and for comparisons I used the official city map of Vienna https://www.wien.gv.at/stadtplan/en/. From the last one I took the coordinates of the St. Stephen's Cathedral (\"Stephansdom\") which set as center of the city. "
   ]
  },
  {
   "cell_type": "markdown",
   "metadata": {},
   "source": [
    "### 2.2 Feature selection"
   ]
  },
  {
   "cell_type": "markdown",
   "metadata": {},
   "source": [
    "* I will create two datasets using the **Foursquare API**. One for sporting goods shops in Vienna, containing information about name, location (address as well as geographical coordinates) and associated category. The second dataset will contain the same information about sport facilities.\n",
    "\n",
    "* The data collected from Foursquare will be saved as **csv files** and then read into **pandas dataframes**.\n",
    "\n",
    "* To visualize the proximity of the sporting facilities to the shops and compare them to existing XXL stores I will create a **Folium map**."
   ]
  },
  {
   "cell_type": "markdown",
   "metadata": {},
   "source": [
    "### 2.3 Logging"
   ]
  },
  {
   "cell_type": "code",
   "execution_count": 1,
   "metadata": {},
   "outputs": [],
   "source": [
    "import pandas as pd\n",
    "import requests"
   ]
  },
  {
   "cell_type": "markdown",
   "metadata": {},
   "source": [
    "Defining Foursquare Credentials and Version"
   ]
  },
  {
   "cell_type": "code",
   "execution_count": 2,
   "metadata": {},
   "outputs": [],
   "source": [
    "CLIENT_ID = 'XXXX' # your Foursquare ID\n",
    "CLIENT_SECRET = 'XXXX' # your Foursquare Secret\n",
    "VERSION = '20201504'"
   ]
  },
  {
   "cell_type": "markdown",
   "metadata": {},
   "source": [
    "Longitude and latitude of center of Vienna using https://www.wien.gv.at/stadtplan/en/"
   ]
  },
  {
   "cell_type": "code",
   "execution_count": 3,
   "metadata": {},
   "outputs": [],
   "source": [
    "vienna_lat = 48.208489\n",
    "vienna_long = 16.373156"
   ]
  },
  {
   "cell_type": "markdown",
   "metadata": {},
   "source": [
    "Searching in a radius of 15km around the St. Stephen's Cathedral"
   ]
  },
  {
   "cell_type": "code",
   "execution_count": 4,
   "metadata": {},
   "outputs": [],
   "source": [
    "radius = 15000"
   ]
  },
  {
   "cell_type": "markdown",
   "metadata": {},
   "source": [
    "#### 2.3.1 Sporting good shops"
   ]
  },
  {
   "cell_type": "markdown",
   "metadata": {},
   "source": [
    "Finding all categories of Sporting goods shop"
   ]
  },
  {
   "cell_type": "code",
   "execution_count": 5,
   "metadata": {},
   "outputs": [],
   "source": [
    "Sporting_Goods_Shop = '4bf58dd8d48988d1f2941735' \n",
    "Skate_Shop = '5bae9231bedf3950379f89d2'\n",
    "Ski_Shop = '56aa371be4b08b9a8d573566'\n",
    "Supplement_Shop = '5744ccdfe4b0c0459246b4cd'\n",
    "Bike_Shop = '4bf58dd8d48988d115951735'\n",
    "\n",
    "shops = ['4bf58dd8d48988d1f2941735', '5bae9231bedf3950379f89d2', '56aa371be4b08b9a8d573566', '5744ccdfe4b0c0459246b4cd', '4bf58dd8d48988d115951735']"
   ]
  },
  {
   "cell_type": "code",
   "execution_count": 6,
   "metadata": {},
   "outputs": [],
   "source": [
    "categories_shops = []\n",
    "\n",
    "for x in shops:\n",
    "    shop_url = 'https://api.foursquare.com/v2/venues/explore?&client_id={}&client_secret={}&v={}&ll={},{}&categoryId={}&radius={}'.format(CLIENT_ID, CLIENT_SECRET, VERSION, vienna_lat, vienna_long, x, radius)\n",
    "    res = requests.get(shop_url).json()\n",
    "    categories_shops.append(res)"
   ]
  },
  {
   "cell_type": "code",
   "execution_count": 7,
   "metadata": {},
   "outputs": [],
   "source": [
    "grouplist = []\n",
    "\n",
    "for k in range (0, len(categories_shops)):\n",
    "    \n",
    "    x = categories_shops[k]['response']['groups']\n",
    "    grouplist.append(x)\n",
    "\n",
    "listofall = []\n",
    "\n",
    "for a in range (0, len(grouplist)):\n",
    "    b = grouplist[a][0]['items']\n",
    "    for c in range (0, len(b)):\n",
    "        if len(b) != 0:\n",
    "            z = b[c]\n",
    "            listofall.append(z)"
   ]
  },
  {
   "cell_type": "code",
   "execution_count": 8,
   "metadata": {
    "scrolled": false
   },
   "outputs": [],
   "source": [
    "allshops = []\n",
    "\n",
    "for element in range (0, len(listofall)):\n",
    "    c = listofall[element]['venue']\n",
    "    allshops.append(c)"
   ]
  },
  {
   "cell_type": "code",
   "execution_count": 9,
   "metadata": {},
   "outputs": [],
   "source": [
    "venue_namelist = []\n",
    "venue_adresslist = []\n",
    "venue_catlist = []\n",
    "venue_latlist = []\n",
    "venue_lnglist = []\n",
    "\n",
    "for i in range(0, len(allshops)):\n",
    "    venues_name = allshops[i]['name']\n",
    "    venues_adress = allshops[i]['location']['formattedAddress']\n",
    "    venues_category = allshops[i]['categories'][0]['pluralName']\n",
    "    venues_lat = allshops[i]['location']['lat']\n",
    "    venues_lng = allshops[i]['location']['lng']\n",
    "    venue_namelist.append(venues_name)\n",
    "    venue_adresslist.append(venues_adress)\n",
    "    venue_catlist.append(venues_category)\n",
    "    venue_latlist.append(venues_lat)\n",
    "    venue_lnglist.append(venues_lng)"
   ]
  },
  {
   "cell_type": "code",
   "execution_count": 10,
   "metadata": {},
   "outputs": [
    {
     "data": {
      "text/html": [
       "<div>\n",
       "<style scoped>\n",
       "    .dataframe tbody tr th:only-of-type {\n",
       "        vertical-align: middle;\n",
       "    }\n",
       "\n",
       "    .dataframe tbody tr th {\n",
       "        vertical-align: top;\n",
       "    }\n",
       "\n",
       "    .dataframe thead th {\n",
       "        text-align: right;\n",
       "    }\n",
       "</style>\n",
       "<table border=\"1\" class=\"dataframe\">\n",
       "  <thead>\n",
       "    <tr style=\"text-align: right;\">\n",
       "      <th></th>\n",
       "      <th>Name</th>\n",
       "      <th>Adress</th>\n",
       "      <th>Cat</th>\n",
       "      <th>Lat</th>\n",
       "      <th>Lng</th>\n",
       "    </tr>\n",
       "  </thead>\n",
       "  <tbody>\n",
       "    <tr>\n",
       "      <th>0</th>\n",
       "      <td>Laufsport Blutsch</td>\n",
       "      <td>[Liniengasse 24, 1060 Wien, Österreich]</td>\n",
       "      <td>Sporting Goods Shops</td>\n",
       "      <td>48.192410</td>\n",
       "      <td>16.344130</td>\n",
       "    </tr>\n",
       "    <tr>\n",
       "      <th>1</th>\n",
       "      <td>bergfuchs</td>\n",
       "      <td>[Kaiserstraße 15, Österreich]</td>\n",
       "      <td>Sporting Goods Shops</td>\n",
       "      <td>48.198428</td>\n",
       "      <td>16.341169</td>\n",
       "    </tr>\n",
       "    <tr>\n",
       "      <th>2</th>\n",
       "      <td>Foot Locker</td>\n",
       "      <td>[Mariahilfer Str. 104, 1070 Wien, Österreich]</td>\n",
       "      <td>Sporting Goods Shops</td>\n",
       "      <td>48.196810</td>\n",
       "      <td>16.344213</td>\n",
       "    </tr>\n",
       "    <tr>\n",
       "      <th>3</th>\n",
       "      <td>HANGLOOSE Boardsports Store</td>\n",
       "      <td>[Favoritenstr. 28 (Mayerhofgasse), 1040 Wien, ...</td>\n",
       "      <td>Sporting Goods Shops</td>\n",
       "      <td>48.192957</td>\n",
       "      <td>16.370626</td>\n",
       "    </tr>\n",
       "    <tr>\n",
       "      <th>4</th>\n",
       "      <td>Blue Tomato Shop Wien</td>\n",
       "      <td>[Neubaugasse 3, 1070 Wien, Österreich]</td>\n",
       "      <td>Board Shops</td>\n",
       "      <td>48.198623</td>\n",
       "      <td>16.349967</td>\n",
       "    </tr>\n",
       "  </tbody>\n",
       "</table>\n",
       "</div>"
      ],
      "text/plain": [
       "                          Name  \\\n",
       "0            Laufsport Blutsch   \n",
       "1                    bergfuchs   \n",
       "2                  Foot Locker   \n",
       "3  HANGLOOSE Boardsports Store   \n",
       "4        Blue Tomato Shop Wien   \n",
       "\n",
       "                                              Adress                   Cat  \\\n",
       "0            [Liniengasse 24, 1060 Wien, Österreich]  Sporting Goods Shops   \n",
       "1                      [Kaiserstraße 15, Österreich]  Sporting Goods Shops   \n",
       "2      [Mariahilfer Str. 104, 1070 Wien, Österreich]  Sporting Goods Shops   \n",
       "3  [Favoritenstr. 28 (Mayerhofgasse), 1040 Wien, ...  Sporting Goods Shops   \n",
       "4             [Neubaugasse 3, 1070 Wien, Österreich]           Board Shops   \n",
       "\n",
       "         Lat        Lng  \n",
       "0  48.192410  16.344130  \n",
       "1  48.198428  16.341169  \n",
       "2  48.196810  16.344213  \n",
       "3  48.192957  16.370626  \n",
       "4  48.198623  16.349967  "
      ]
     },
     "execution_count": 10,
     "metadata": {},
     "output_type": "execute_result"
    }
   ],
   "source": [
    "data = {'Name':venue_namelist, 'Adress': venue_adresslist, 'Cat': venue_catlist, 'Lat': venue_latlist, 'Lng': venue_lnglist }\n",
    "df = pd.DataFrame(data)\n",
    "\n",
    "df.head()"
   ]
  },
  {
   "cell_type": "code",
   "execution_count": 11,
   "metadata": {},
   "outputs": [
    {
     "data": {
      "text/plain": [
       "(68, 5)"
      ]
     },
     "execution_count": 11,
     "metadata": {},
     "output_type": "execute_result"
    }
   ],
   "source": [
    "df.shape"
   ]
  },
  {
   "cell_type": "code",
   "execution_count": 12,
   "metadata": {},
   "outputs": [],
   "source": [
    "df.to_csv(r'~/XXXXX/shops.csv', index = False)"
   ]
  },
  {
   "cell_type": "markdown",
   "metadata": {},
   "source": [
    "#### 2.3.2 Sport facilities"
   ]
  },
  {
   "cell_type": "code",
   "execution_count": 13,
   "metadata": {},
   "outputs": [],
   "source": [
    "Gym_Fitness = '4bf58dd8d48988d175941735' \n",
    "# subcategories of 'gym'\n",
    "Boxing_Gym ='52f2ab2ebcbc57f1066b8b47'\n",
    "Climbing_Gym = '503289d391d4c4b30a586d6a'\n",
    "Cycle_Studio = '52f2ab2ebcbc57f1066b8b49'\n",
    "Gym_Pool = '4bf58dd8d48988d105941735'\n",
    "Gymnastics_Gym = '52f2ab2ebcbc57f1066b8b48'\n",
    "Gym = '4bf58dd8d48988d176941735'\n",
    "Martial_Arts_Dojo = '4bf58dd8d48988d101941735'\n",
    "Outdoor_Gym = '58daa1558bbb0b01f18ec203'\n",
    "Pilates_Studio = '5744ccdfe4b0c0459246b4b2'\n",
    "Track = '4bf58dd8d48988d106941735'\n",
    "Weight_Loss_Center = '590a0744340a5803fd8508c3'\n",
    "Yoga_Studio = '4bf58dd8d48988d102941735'\n",
    "\n",
    "Basketball_Court = '4bf58dd8d48988d1e1941735'  \n",
    "Hockey_Field = '4f452cd44b9081a197eba860'\n",
    "Skate_Park = '4bf58dd8d48988d167941735'\n",
    "Skating_Rink = '4bf58dd8d48988d168941735'\n",
    "Soccer_Field = '4cce455aebf7b749d5e191f5'\n",
    "Sports_Club = '52e81612bcbc57f1066b7a2e'\n",
    "Tennis_Court = '4e39a956bd410d7aed40cbc3'\n",
    "Volleyball_Court = '4eb1bf013b7b6f98df247e07'\n",
    "Bathing_Area = '52e81612bcbc57f1066b7a28'\n",
    "Beach = '4bf58dd8d48988d1e2941735'\n",
    "Ski_Area = '4bf58dd8d48988d1e9941735'\n",
    "College_Gym = '4bf58dd8d48988d1b2941735'\n",
    "College_Stadium = '4bf58dd8d48988d1b4941735'"
   ]
  },
  {
   "cell_type": "code",
   "execution_count": 14,
   "metadata": {},
   "outputs": [],
   "source": [
    "categorylist = [Boxing_Gym, Climbing_Gym, Cycle_Studio, Gym_Pool, Gymnastics_Gym, Gym, Martial_Arts_Dojo, Outdoor_Gym, Pilates_Studio, Track, Weight_Loss_Center,Yoga_Studio, Basketball_Court, Hockey_Field , Skate_Park , Skating_Rink , Soccer_Field , Sports_Club , Tennis_Court , Volleyball_Court ,Bathing_Area , Beach, Ski_Area , College_Gym ,College_Stadium]"
   ]
  },
  {
   "cell_type": "code",
   "execution_count": 15,
   "metadata": {},
   "outputs": [
    {
     "data": {
      "text/plain": [
       "25"
      ]
     },
     "execution_count": 15,
     "metadata": {},
     "output_type": "execute_result"
    }
   ],
   "source": [
    "resultlist =[]\n",
    "\n",
    "for x in categorylist:\n",
    "    url2 = 'https://api.foursquare.com/v2/venues/explore?&client_id={}&client_secret={}&v={}&ll={},{}&categoryId={}&radius={}'.format(CLIENT_ID, CLIENT_SECRET, VERSION, vienna_lat, vienna_long, x, radius)\n",
    "    res = requests.get(url2).json()\n",
    "    resultlist.append(res)\n",
    "    \n",
    "len(resultlist)"
   ]
  },
  {
   "cell_type": "code",
   "execution_count": 16,
   "metadata": {},
   "outputs": [],
   "source": [
    "venlist = []\n",
    "for k in range (0, len(resultlist)):\n",
    "    venues = resultlist[k]['response']['groups'][0]['items']\n",
    "    venlist.append(venues)"
   ]
  },
  {
   "cell_type": "code",
   "execution_count": 17,
   "metadata": {},
   "outputs": [],
   "source": [
    "loclist = []\n",
    "for x in range (0, len(venlist)):\n",
    "    y = venlist[x]\n",
    "    for z in range (0, len(y)):\n",
    "        location = y[z]\n",
    "        loclist.append(location)"
   ]
  },
  {
   "cell_type": "code",
   "execution_count": 18,
   "metadata": {},
   "outputs": [
    {
     "data": {
      "text/plain": [
       "329"
      ]
     },
     "execution_count": 18,
     "metadata": {},
     "output_type": "execute_result"
    }
   ],
   "source": [
    "len(loclist)"
   ]
  },
  {
   "cell_type": "code",
   "execution_count": 19,
   "metadata": {},
   "outputs": [],
   "source": [
    "div_list = []\n",
    "div_dict = []\n",
    "\n",
    "for i in range (0, len(loclist)):\n",
    "    if type(loclist[i]) == dict:\n",
    "        div_dict.append(loclist[i])\n",
    "    else:\n",
    "        div_list.append(loclist[i])"
   ]
  },
  {
   "cell_type": "code",
   "execution_count": 20,
   "metadata": {},
   "outputs": [
    {
     "name": "stdout",
     "output_type": "stream",
     "text": [
      "0 329\n"
     ]
    }
   ],
   "source": [
    "print(len(div_list), len(div_dict))"
   ]
  },
  {
   "cell_type": "code",
   "execution_count": 21,
   "metadata": {},
   "outputs": [],
   "source": [
    "namelist = []\n",
    "adresslist = []\n",
    "catlist = []\n",
    "latlist = []\n",
    "lnglist = []\n",
    "\n",
    "for z in range (0, len(loclist)):\n",
    "    location_name = loclist[z]['venue']['name']\n",
    "    location_adress = loclist[z]['venue']['location']['formattedAddress']\n",
    "    location_category = loclist[z]['venue']['categories'][0]['pluralName'] \n",
    "    location_lat = loclist[z]['venue']['location']['labeledLatLngs'][0]['lat']\n",
    "    location_lng = loclist[z]['venue']['location']['labeledLatLngs'][0]['lng']\n",
    "    namelist.append(location_name)\n",
    "    adresslist.append(location_adress)\n",
    "    catlist.append(location_category)\n",
    "    latlist.append(location_lat)\n",
    "    lnglist.append(location_lng)"
   ]
  },
  {
   "cell_type": "code",
   "execution_count": 22,
   "metadata": {},
   "outputs": [
    {
     "data": {
      "text/plain": [
       "329"
      ]
     },
     "execution_count": 22,
     "metadata": {},
     "output_type": "execute_result"
    }
   ],
   "source": [
    "len(namelist)"
   ]
  },
  {
   "cell_type": "code",
   "execution_count": 23,
   "metadata": {},
   "outputs": [
    {
     "data": {
      "text/html": [
       "<div>\n",
       "<style scoped>\n",
       "    .dataframe tbody tr th:only-of-type {\n",
       "        vertical-align: middle;\n",
       "    }\n",
       "\n",
       "    .dataframe tbody tr th {\n",
       "        vertical-align: top;\n",
       "    }\n",
       "\n",
       "    .dataframe thead th {\n",
       "        text-align: right;\n",
       "    }\n",
       "</style>\n",
       "<table border=\"1\" class=\"dataframe\">\n",
       "  <thead>\n",
       "    <tr style=\"text-align: right;\">\n",
       "      <th></th>\n",
       "      <th>Name</th>\n",
       "      <th>Adress</th>\n",
       "      <th>Category</th>\n",
       "      <th>Lat</th>\n",
       "      <th>Lng</th>\n",
       "    </tr>\n",
       "  </thead>\n",
       "  <tbody>\n",
       "    <tr>\n",
       "      <th>0</th>\n",
       "      <td>Ostermann Kickboxen</td>\n",
       "      <td>[Gärtnergasse 4, 1030 Wien, Österreich]</td>\n",
       "      <td>Athletics &amp; Sports</td>\n",
       "      <td>48.206592</td>\n",
       "      <td>16.388362</td>\n",
       "    </tr>\n",
       "    <tr>\n",
       "      <th>1</th>\n",
       "      <td>Octagon Kickboxing</td>\n",
       "      <td>[Österreich]</td>\n",
       "      <td>Boxing Gyms</td>\n",
       "      <td>48.196937</td>\n",
       "      <td>16.344497</td>\n",
       "    </tr>\n",
       "    <tr>\n",
       "      <th>2</th>\n",
       "      <td>Boxteam Vienna</td>\n",
       "      <td>[Stadlauerstrasse 41a, 1220 Wien, Österreich]</td>\n",
       "      <td>Boxing Gyms</td>\n",
       "      <td>48.232381</td>\n",
       "      <td>16.456469</td>\n",
       "    </tr>\n",
       "    <tr>\n",
       "      <th>3</th>\n",
       "      <td>Gym 23</td>\n",
       "      <td>[Anton-Baumgartner-Straße 40, 1230 Wien, Öster...</td>\n",
       "      <td>Gyms or Fitness Centers</td>\n",
       "      <td>48.152249</td>\n",
       "      <td>16.318870</td>\n",
       "    </tr>\n",
       "    <tr>\n",
       "      <th>4</th>\n",
       "      <td>OeAV Edelweiss-Center</td>\n",
       "      <td>[Walfischg. 12, 1010 Wien, Österreich]</td>\n",
       "      <td>Climbing Gyms</td>\n",
       "      <td>48.202806</td>\n",
       "      <td>16.372683</td>\n",
       "    </tr>\n",
       "    <tr>\n",
       "      <th>5</th>\n",
       "      <td>boulderbar Vienna</td>\n",
       "      <td>[Hannovergasse 21, 1200 Wien, Österreich]</td>\n",
       "      <td>Climbing Gyms</td>\n",
       "      <td>48.231446</td>\n",
       "      <td>16.367896</td>\n",
       "    </tr>\n",
       "    <tr>\n",
       "      <th>6</th>\n",
       "      <td>Kletterhalle Wien</td>\n",
       "      <td>[Erzherzog-Karl-Straße 108, 1220 Wien, Österre...</td>\n",
       "      <td>Climbing Gyms</td>\n",
       "      <td>48.230189</td>\n",
       "      <td>16.450644</td>\n",
       "    </tr>\n",
       "    <tr>\n",
       "      <th>7</th>\n",
       "      <td>Sportzentrum Marswiese</td>\n",
       "      <td>[Neuwaldegger Straße 57a, 1170 Wien, Österreich]</td>\n",
       "      <td>Climbing Gyms</td>\n",
       "      <td>48.239980</td>\n",
       "      <td>16.276590</td>\n",
       "    </tr>\n",
       "    <tr>\n",
       "      <th>8</th>\n",
       "      <td>SÜDWAND Kletterzentrum</td>\n",
       "      <td>[Plättenstr. 2, 2380 Perchtoldsdorf, Österreich]</td>\n",
       "      <td>Climbing Gyms</td>\n",
       "      <td>48.123461</td>\n",
       "      <td>16.266499</td>\n",
       "    </tr>\n",
       "    <tr>\n",
       "      <th>9</th>\n",
       "      <td>Kletterwand am Flakturm</td>\n",
       "      <td>[Esterházypark (Fritz-Grünbaum-Platz 1), 1060 ...</td>\n",
       "      <td>Climbing Gyms</td>\n",
       "      <td>48.197643</td>\n",
       "      <td>16.352663</td>\n",
       "    </tr>\n",
       "  </tbody>\n",
       "</table>\n",
       "</div>"
      ],
      "text/plain": [
       "                      Name                                             Adress  \\\n",
       "0      Ostermann Kickboxen            [Gärtnergasse 4, 1030 Wien, Österreich]   \n",
       "1       Octagon Kickboxing                                       [Österreich]   \n",
       "2           Boxteam Vienna      [Stadlauerstrasse 41a, 1220 Wien, Österreich]   \n",
       "3                   Gym 23  [Anton-Baumgartner-Straße 40, 1230 Wien, Öster...   \n",
       "4    OeAV Edelweiss-Center             [Walfischg. 12, 1010 Wien, Österreich]   \n",
       "5        boulderbar Vienna          [Hannovergasse 21, 1200 Wien, Österreich]   \n",
       "6        Kletterhalle Wien  [Erzherzog-Karl-Straße 108, 1220 Wien, Österre...   \n",
       "7   Sportzentrum Marswiese   [Neuwaldegger Straße 57a, 1170 Wien, Österreich]   \n",
       "8   SÜDWAND Kletterzentrum   [Plättenstr. 2, 2380 Perchtoldsdorf, Österreich]   \n",
       "9  Kletterwand am Flakturm  [Esterházypark (Fritz-Grünbaum-Platz 1), 1060 ...   \n",
       "\n",
       "                  Category        Lat        Lng  \n",
       "0       Athletics & Sports  48.206592  16.388362  \n",
       "1              Boxing Gyms  48.196937  16.344497  \n",
       "2              Boxing Gyms  48.232381  16.456469  \n",
       "3  Gyms or Fitness Centers  48.152249  16.318870  \n",
       "4            Climbing Gyms  48.202806  16.372683  \n",
       "5            Climbing Gyms  48.231446  16.367896  \n",
       "6            Climbing Gyms  48.230189  16.450644  \n",
       "7            Climbing Gyms  48.239980  16.276590  \n",
       "8            Climbing Gyms  48.123461  16.266499  \n",
       "9            Climbing Gyms  48.197643  16.352663  "
      ]
     },
     "execution_count": 23,
     "metadata": {},
     "output_type": "execute_result"
    }
   ],
   "source": [
    "locations = {'Name':namelist, 'Adress': adresslist, 'Category': catlist, 'Lat': latlist, 'Lng': lnglist }\n",
    "df_location = pd.DataFrame(locations)\n",
    "df_location.head(10)"
   ]
  },
  {
   "cell_type": "code",
   "execution_count": 24,
   "metadata": {},
   "outputs": [
    {
     "data": {
      "text/plain": [
       "(329, 5)"
      ]
     },
     "execution_count": 24,
     "metadata": {},
     "output_type": "execute_result"
    }
   ],
   "source": [
    "df_location.shape"
   ]
  },
  {
   "cell_type": "code",
   "execution_count": 25,
   "metadata": {},
   "outputs": [],
   "source": [
    "df_location.to_csv(r'~/XXXX/locations.csv', index = False)"
   ]
  }
 ],
 "metadata": {
  "kernelspec": {
   "display_name": "Python 3",
   "language": "python",
   "name": "python3"
  },
  "language_info": {
   "codemirror_mode": {
    "name": "ipython",
    "version": 3
   },
   "file_extension": ".py",
   "mimetype": "text/x-python",
   "name": "python",
   "nbconvert_exporter": "python",
   "pygments_lexer": "ipython3",
   "version": "3.6.9"
  }
 },
 "nbformat": 4,
 "nbformat_minor": 4
}
